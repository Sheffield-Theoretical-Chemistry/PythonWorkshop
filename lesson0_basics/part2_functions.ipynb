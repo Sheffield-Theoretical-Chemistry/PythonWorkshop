{
 "cells": [
  {
   "cell_type": "markdown",
   "metadata": {},
   "source": [
    "# Functions, Modules, Classes, and Files"
   ]
  },
  {
   "cell_type": "markdown",
   "metadata": {},
   "source": [
    "This section provides a quick overview of the following topics:\n",
    "\n",
    "* Functions\n",
    "* Modules\n",
    "* Classes\n",
    "* Reading from files and writing to files"
   ]
  },
  {
   "cell_type": "markdown",
   "metadata": {},
   "source": [
    "## Functions"
   ]
  },
  {
   "cell_type": "markdown",
   "metadata": {},
   "source": [
    "Functions are reusable code blocks. Functions have specific names and can be called any number of times during a program. The following is an example of a function which adds two numbers."
   ]
  },
  {
   "cell_type": "code",
   "execution_count": 1,
   "metadata": {},
   "outputs": [
    {
     "name": "stdout",
     "output_type": "stream",
     "text": [
      "15\n",
      "30\n"
     ]
    }
   ],
   "source": [
    "def add2(x,y):\n",
    "    a = x + y\n",
    "    return a\n",
    "\n",
    "b = add2(5,10)\n",
    "print(b)\n",
    "print(add2(20,10))\n"
   ]
  },
  {
   "cell_type": "markdown",
   "metadata": {},
   "source": [
    "Functions are defined using the **def** keyword followed by the function name and parenthesis. In the above example, add2 is the function name. The parenthesis usually contains the arguments or parameters which are inputs for the code blocks inside the function. For the above example, there are two parameters ```x``` and ```y```. The function also contains a ```return``` statement which passes an object back to the main program. In the above example, the function returns ```a``` which contains the sum of ```x``` and ```y```. A function need not always return an object or can have multiple return statements as show below."
   ]
  },
  {
   "cell_type": "code",
   "execution_count": 2,
   "metadata": {},
   "outputs": [
    {
     "name": "stdout",
     "output_type": "stream",
     "text": [
      "120\n"
     ]
    }
   ],
   "source": [
    "def fact(x):\n",
    "    if x == 0:\n",
    "        return 1\n",
    "    else:\n",
    "        return x*fact(x-1) # This is a truly terrible way to calculate a factorial\n",
    "\n",
    "b = fact(5)\n",
    "print(b)"
   ]
  },
  {
   "cell_type": "markdown",
   "metadata": {},
   "source": [
    "This is bad form, though, and you should try to ensure functions and loops have exactly one entrance and one exit point. Doing so makes code much more easy to follow, and will help in debugging. E.g. the above could be rewritten simply as"
   ]
  },
  {
   "cell_type": "code",
   "execution_count": 1,
   "metadata": {
    "collapsed": true
   },
   "outputs": [],
   "source": [
    "def fact(x):\n",
    "    result = 1\n",
    "    if x > 0:\n",
    "        result = x * fact(x-1) # Seriously, such a bad way to do it\n",
    "    return result"
   ]
  },
  {
   "cell_type": "markdown",
   "metadata": {},
   "source": [
    "The above fact function is an example of recursive function where the same function is called within the function. Functions can be used to return objects other than variables. The following function returns a list."
   ]
  },
  {
   "cell_type": "code",
   "execution_count": 3,
   "metadata": {},
   "outputs": [
    {
     "name": "stdout",
     "output_type": "stream",
     "text": [
      "[8, 9, 10]\n"
     ]
    }
   ],
   "source": [
    "def listsort(x):\n",
    "    x.sort()\n",
    "    return x\n",
    "\n",
    "x = [10,9,8]\n",
    "print(listsort(x))"
   ]
  },
  {
   "cell_type": "markdown",
   "metadata": {},
   "source": [
    "For a variable, changes made within the function will not affect its value outside of the function. In the example given below, even though we are doubling the value of x inside the function, the value of x outside the function remains the same. "
   ]
  },
  {
   "cell_type": "code",
   "execution_count": 4,
   "metadata": {},
   "outputs": [
    {
     "name": "stdout",
     "output_type": "stream",
     "text": [
      "20\n",
      "10\n"
     ]
    }
   ],
   "source": [
    "def doublex(x):\n",
    "    x = x*2\n",
    "    return x\n",
    "\n",
    "x = 10\n",
    "print(doublex(x))\n",
    "print(x)"
   ]
  },
  {
   "cell_type": "markdown",
   "metadata": {},
   "source": [
    "It's also possible (and very useful) to have multiple variables returned. On a technical note, these are returned as tuples, not lists."
   ]
  },
  {
   "cell_type": "code",
   "execution_count": 5,
   "metadata": {},
   "outputs": [
    {
     "name": "stdout",
     "output_type": "stream",
     "text": [
      "Sum: 5.5 \n",
      "Product: 6.0\n"
     ]
    }
   ],
   "source": [
    "def sum_and_product(x, y):\n",
    "    return x+y, x*y\n",
    "\n",
    "w, z = sum_and_product(4.0, 1.5)\n",
    "print(\"Sum:\", w, \"\\nProduct:\", z) # \\n is the escape character for a new line"
   ]
  },
  {
   "cell_type": "markdown",
   "metadata": {},
   "source": [
    "Functions can also be used in the case where the number of arguments are not fixed."
   ]
  },
  {
   "cell_type": "code",
   "execution_count": 5,
   "metadata": {},
   "outputs": [
    {
     "name": "stdout",
     "output_type": "stream",
     "text": [
      "120\n"
     ]
    }
   ],
   "source": [
    "def mult(*x, **y):\n",
    "    product = 1\n",
    "    for i in x:\n",
    "        product = product*i\n",
    "    for i,j in y.items():\n",
    "        product = product*j\n",
    "    return product\n",
    "\n",
    "print(mult(1, 2, 3, austin=4, pittsburgh=5))"
   ]
  },
  {
   "cell_type": "markdown",
   "metadata": {},
   "source": [
    "When we have an argument called \\*arg, then it is collected as a tuple. When we have an argument as \\**arg, then the corresponding values are collected as a dictionary."
   ]
  },
  {
   "cell_type": "markdown",
   "metadata": {},
   "source": [
    "# Modules"
   ]
  },
  {
   "cell_type": "markdown",
   "metadata": {},
   "source": [
    "A python module is a file containing python variables, statements, and functions. You can write your own python script, save it as a filename.py, place it in the same directory as your current code and use it using the **import** function. Python has a Standard Library which is a collection of modules providing it with the various functionality. For example, the math module provides us access to the various math functions.\n",
    "\n",
    "For example, the code below provides us access to the logarithm function from the math module. "
   ]
  },
  {
   "cell_type": "code",
   "execution_count": 6,
   "metadata": {},
   "outputs": [
    {
     "name": "stdout",
     "output_type": "stream",
     "text": [
      "2.302585092994046\n"
     ]
    }
   ],
   "source": [
    "import math\n",
    "x = math.log(10)\n",
    "print(x)"
   ]
  },
  {
   "cell_type": "markdown",
   "metadata": {},
   "source": [
    "If we want to avoid using math prefix, we can import everything in the math module as shown below. It is usually a better idea to only import what you need however, as importing entire libraries costs memory and speed. "
   ]
  },
  {
   "cell_type": "code",
   "execution_count": 7,
   "metadata": {},
   "outputs": [
    {
     "name": "stdout",
     "output_type": "stream",
     "text": [
      "2.302585092994046\n"
     ]
    }
   ],
   "source": [
    "from math import *\n",
    "x = log(10)\n",
    "print(x)"
   ]
  },
  {
   "cell_type": "markdown",
   "metadata": {},
   "source": [
    "The above approach is not recommended for large programs. Ideally you import only the functions you need. "
   ]
  },
  {
   "cell_type": "code",
   "execution_count": 8,
   "metadata": {},
   "outputs": [
    {
     "name": "stdout",
     "output_type": "stream",
     "text": [
      "2.302585092994046\n"
     ]
    }
   ],
   "source": [
    "from math import log\n",
    "x = log(10)\n",
    "print(x)"
   ]
  },
  {
   "cell_type": "markdown",
   "metadata": {},
   "source": [
    "Another way to import is shown below, which can make long library names more manageable."
   ]
  },
  {
   "cell_type": "code",
   "execution_count": 9,
   "metadata": {},
   "outputs": [
    {
     "name": "stdout",
     "output_type": "stream",
     "text": [
      "2.302585092994046\n"
     ]
    }
   ],
   "source": [
    "import math as mt\n",
    "x = mt.log(10)\n",
    "print(x)"
   ]
  },
  {
   "cell_type": "markdown",
   "metadata": {},
   "source": [
    "# Classes"
   ]
  },
  {
   "cell_type": "markdown",
   "metadata": {},
   "source": [
    "Classes can be thought of as a collection of variables, data structures, and functions. Classes can be used to design new objects. Classes help organize variables, data structures, and functions which operate on these variables and data structure in a compact manner"
   ]
  },
  {
   "cell_type": "code",
   "execution_count": 10,
   "metadata": {},
   "outputs": [
    {
     "name": "stdout",
     "output_type": "stream",
     "text": [
      "Student Count is  1\n",
      "Tom 85.0\n",
      "Total Number of Students:  3\n",
      "Name :  Tom , Score in Exam 1:  80 , Score in Exam 2:  90\n",
      "Name :  Stacy , Score in Exam 1:  90 , Score in Exam 2:  100\n",
      "Name :  Joe , Score in Exam 1:  70 , Score in Exam 2:  90\n"
     ]
    }
   ],
   "source": [
    "class Student:\n",
    "    studentCount = 0\n",
    "    def __init__(self, name, exam1, exam2):\n",
    "        self.name = name\n",
    "        self.exam1 = exam1\n",
    "        self.exam2 = exam2\n",
    "        Student.studentCount = Student.studentCount + 1\n",
    "    def displayStudent(self):\n",
    "        print(\"Name : \", self.name, \", Score in Exam 1: \", self.exam1, \", Score in Exam 2: \", self.exam2)\n",
    "    def displayStudentCount(self):\n",
    "        print(\"Total Number of Students: \", Student.studentCount)\n",
    "    def examAverage(self):\n",
    "        return 0.5*(self.exam1 + self.exam2)\n",
    "\n",
    "a = Student(\"Tom\", 80, 90)\n",
    "print(\"Student Count is \", a.studentCount)\n",
    "b = Student(\"Stacy\", 90, 100)\n",
    "c = Student(\"Joe\", 70, 90)\n",
    "\n",
    "print(a.name, a.examAverage())\n",
    "a.displayStudentCount()\n",
    "\n",
    "a.displayStudent()\n",
    "b.displayStudent()\n",
    "c.displayStudent()\n"
   ]
  },
  {
   "cell_type": "markdown",
   "metadata": {
    "collapsed": true
   },
   "source": [
    "Classes are defined using the **class** keyword. In the above example **Student** is the name of the class. Note that Class names start with capital letters by convention. All the elements or members of the class are indented. In the first line we define a variable studentCount which is a member of the class and set it equal to 0.\n",
    "\n",
    "The next line contains a function called **__init__**. This function is called a constructor which is called by default whenever you create an object of the class type. Constructors are used to initialize the variables or data structures defined in the class. \n",
    "\n",
    "Note that the first argument or parameter in any function defined in a class is self. In the above program, an object of the type Student is created when you run the line **a = Student(\"Tom\", 80, 90)**. When an object is created, the constructur is called which initializes a.name to Tom, a.exam1 to 80, and a.exam2 to 90. The studentCount variable is increased to 1. \n",
    "\n",
    "In the above code, we initialize three objects **a,b,** and **c**. The class members are accessed using the dot notation - **ObjectName.VariableName** or **ObjectName.FunctionName(Parameters)**.\n",
    "\n",
    "In the above class, we have three functinos other than the constructor. The second function is to display information about the student. The third function displays the number of students and the fourth function returns the average score in two examinations.\n"
   ]
  },
  {
   "cell_type": "markdown",
   "metadata": {},
   "source": [
    "# Files"
   ]
  },
  {
   "cell_type": "markdown",
   "metadata": {},
   "source": [
    "In many cases, you may have to read the input to your code from a file and write the output to a file. This section provides a quick overview of reading and writing to text files. Create a text file called \"input.txt\" with the following information and place it in the same directory as the python script or notebook:\n",
    "\n",
    "From, To, Cost   \n",
    "1, 2, 3.0   \n",
    "1, 3, 4.0   \n",
    "2, 3, 3.0   \n",
    "3, 4, 5.0   \n",
    "2, 4, 4.0   "
   ]
  },
  {
   "cell_type": "code",
   "execution_count": 11,
   "metadata": {},
   "outputs": [
    {
     "name": "stdout",
     "output_type": "stream",
     "text": [
      "From, To, Cost\n",
      "1, 2, 3.0\n",
      "1, 3, 4.0\n",
      "2, 3, 3.0\n",
      "3, 4, 5.0\n",
      "2, 4, 4.0\n"
     ]
    }
   ],
   "source": [
    "f = open(\"input.txt\", \"r\")\n",
    "print(f.read())\n",
    "f.close()"
   ]
  },
  {
   "cell_type": "markdown",
   "metadata": {},
   "source": [
    "The open command opens a file and returns a file object. In the example given above, the file object is stored in f. The first argument in the open command specifies the name of the file. The second argument specifies the mode. The common modes are:\n",
    "\n",
    "* r - opening the file for reading\n",
    "* w - opening the file for writing\n",
    "* a - opening the file for appending, adding information to the end of the file\n",
    "* r+ - opening the file for both reading and writing\n",
    "\n",
    "Note that whenever you open a file for writing, it creates a completely new file. So if there was a file with information you dont want to be deleted, you want to open the file in append mode.\n",
    "\n",
    "The f.read() reads the entire file and returns a string containing all the elements of the file. Once you open a file, do not forget to close the file using the close command.\n",
    "\n",
    "You can also read the file, line by line using the readline() function."
   ]
  },
  {
   "cell_type": "code",
   "execution_count": 12,
   "metadata": {},
   "outputs": [
    {
     "name": "stdout",
     "output_type": "stream",
     "text": [
      "[[1, 2, 3.0], [1, 3, 4.0], [2, 3, 3.0], [3, 4, 5.0], [2, 4, 4.0]]\n"
     ]
    }
   ],
   "source": [
    "f = open(\"input.txt\", \"r\")\n",
    "network = []\n",
    "line = f.readline() #This line reads the first line comprising of From,To, Cost\n",
    "line = f.readline()\n",
    "while len(line):\n",
    "    l = line.split(',')\n",
    "    fromnode = int(l[0])\n",
    "    to = int(l[1])\n",
    "    cost = float(l[2])\n",
    "    line = f.readline()\n",
    "    network.append([fromnode, to, cost])\n",
    "f.close()\n",
    "print(network)"
   ]
  },
  {
   "cell_type": "markdown",
   "metadata": {},
   "source": [
    "In the above code, we read line by line. Each line is split into components and stored in a list l. The elements of the list are then converted to integer and float values and stored in a multi-dimenstional list called network. Similarly we can use the open and write command to write stuff onto files. "
   ]
  },
  {
   "cell_type": "code",
   "execution_count": 13,
   "metadata": {
    "collapsed": true
   },
   "outputs": [],
   "source": [
    "f = open(\"output.txt\", \"w\")\n",
    "f.write(\"Testing output.\\n\")\n",
    "f.write(\"My attempt at writing to file in Python.\")\n",
    "f.close()"
   ]
  }
 ],
 "metadata": {
  "anaconda-cloud": {},
  "kernelspec": {
   "display_name": "Python 3",
   "language": "python",
   "name": "python3"
  },
  "language_info": {
   "codemirror_mode": {
    "name": "ipython",
    "version": 3
   },
   "file_extension": ".py",
   "mimetype": "text/x-python",
   "name": "python",
   "nbconvert_exporter": "python",
   "pygments_lexer": "ipython3",
   "version": "3.6.2"
  }
 },
 "nbformat": 4,
 "nbformat_minor": 1
}
