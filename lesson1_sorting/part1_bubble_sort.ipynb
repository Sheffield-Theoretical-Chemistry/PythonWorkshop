{
 "cells": [
  {
   "cell_type": "markdown",
   "metadata": {},
   "source": [
    "# Bubble Sort"
   ]
  },
  {
   "cell_type": "markdown",
   "metadata": {},
   "source": [
    "Sorting algorithms offer an excellent introduction to programming because they encompass all the fundamentals of using the language, while being reasonably simple algorithms to understand. Moreover, they are very simple to test - something which is important whether you're a novice or an expert programmer. \n",
    "\n",
    "For more information on the actual use of Python, please refer to the notebooks in Lesson 0. "
   ]
  },
  {
   "cell_type": "markdown",
   "metadata": {},
   "source": [
    "The bubble sort is probably the simplest sorting algorithm. It works by comparing each adjacent pair of values and swapping them if necessary. In this way the largest (we're assuming ascending order for simplicity) value \"bubbles\" to the top of the list with each pass.\n",
    "\n",
    "In theory, this means that for a list of length $n$, you need to do $n-1$ comparisons on each pass, and in principal $n$ passes so that each value gets \"bubbled\" to the correct position. The algorithm is outlined below. \n",
    "\n",
    "We will use this example to introduce the fundamental points of programming in python:\n",
    "\n",
    "* data types and variables, including lists\n",
    "* built-in operators\n",
    "* loops and conditionals\n",
    "* functions\n",
    "\n",
    "It also acts as a good example of how to think like a programmer, and having good coding habits from the very beginning. This will include testing the code at the end using external modules. "
   ]
  },
  {
   "cell_type": "markdown",
   "metadata": {},
   "source": [
    "![](./images/bubble-sort-1.png)"
   ]
  },
  {
   "cell_type": "code",
   "execution_count": 4,
   "metadata": {
    "collapsed": true
   },
   "outputs": [],
   "source": []
  },
  {
   "cell_type": "markdown",
   "metadata": {},
   "source": [
    "<br>\n",
    "<br>"
   ]
  }
 ],
 "metadata": {
  "kernelspec": {
   "display_name": "Python 3",
   "language": "python",
   "name": "python3"
  },
  "language_info": {
   "codemirror_mode": {
    "name": "ipython",
    "version": 3
   },
   "file_extension": ".py",
   "mimetype": "text/x-python",
   "name": "python",
   "nbconvert_exporter": "python",
   "pygments_lexer": "ipython3",
   "version": "3.6.2"
  }
 },
 "nbformat": 4,
 "nbformat_minor": 1
}
