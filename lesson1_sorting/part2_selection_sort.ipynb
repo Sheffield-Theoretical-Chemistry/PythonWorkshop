{
 "cells": [
  {
   "cell_type": "markdown",
   "metadata": {},
   "source": [
    "# Selection Sort"
   ]
  },
  {
   "cell_type": "markdown",
   "metadata": {},
   "source": [
    "Selection sort is one of the simplest, and probably most classic, sorting algorithms. It sorts an array in-place with a complexity of $O(n^2)$, since a given list of *n* elements is sorted *n* times. Technically, each element is only checked *n* times in the first iteration. The second iteration then checks the remaining *n-1* elements, the third iteration the remaining *n-2* elements, and so forth. Thus, the number of checks that need to be performed is $n\\times 1/2 \\times n$. However, in Big O notation, we omit constants; thus we write $O(n^2)$ instead of  $O(n\\times 1/2 \\times n)$.\n",
    "\n",
    "The procedure is as follows:"
   ]
  },
  {
   "cell_type": "markdown",
   "metadata": {},
   "source": [
    "![](./images/selection-sort-1.png)"
   ]
  },
  {
   "cell_type": "markdown",
   "metadata": {},
   "source": [
    "#### Create a list, and write a function that swaps any two elements of the list."
   ]
  },
  {
   "cell_type": "code",
   "execution_count": null,
   "metadata": {
    "collapsed": true
   },
   "outputs": [],
   "source": []
  },
  {
   "cell_type": "markdown",
   "metadata": {},
   "source": [
    "#### What happens if you try to use an index bigger than the size of the list?"
   ]
  },
  {
   "cell_type": "code",
   "execution_count": null,
   "metadata": {
    "collapsed": true
   },
   "outputs": [],
   "source": []
  },
  {
   "cell_type": "markdown",
   "metadata": {},
   "source": [
    "#### Write code that finds the smallest number in the list."
   ]
  },
  {
   "cell_type": "code",
   "execution_count": null,
   "metadata": {
    "collapsed": true
   },
   "outputs": [],
   "source": []
  },
  {
   "cell_type": "markdown",
   "metadata": {},
   "source": [
    "#### Using the above and following the diagram, write a function that sorts your list in ascending order using a selection sort."
   ]
  },
  {
   "cell_type": "code",
   "execution_count": null,
   "metadata": {
    "collapsed": true
   },
   "outputs": [],
   "source": []
  },
  {
   "cell_type": "markdown",
   "metadata": {},
   "source": [
    "#### Test your code on the following scenarios:\n",
    "\n",
    "* a random list of numbers, of different sizes\n",
    "* an already sorted list\n",
    "* a list already in reverse order (highest to lowest)\n",
    "* a list of words\n",
    "\n",
    "#### Do any of these cases break? If so, why, and how can you fix it? "
   ]
  },
  {
   "cell_type": "code",
   "execution_count": null,
   "metadata": {
    "collapsed": true
   },
   "outputs": [],
   "source": []
  },
  {
   "cell_type": "markdown",
   "metadata": {},
   "source": [
    "** (Optional because difficult) ** \n",
    "Modify your function so that it compares values based on another function you give it. Use this to sort a list of words in ascending size order, i.e. shortest word to longest word. "
   ]
  },
  {
   "cell_type": "code",
   "execution_count": null,
   "metadata": {
    "collapsed": true
   },
   "outputs": [],
   "source": []
  }
 ],
 "metadata": {
  "kernelspec": {
   "display_name": "Python 3",
   "language": "python",
   "name": "python3"
  },
  "language_info": {
   "codemirror_mode": {
    "name": "ipython",
    "version": 3
   },
   "file_extension": ".py",
   "mimetype": "text/x-python",
   "name": "python",
   "nbconvert_exporter": "python",
   "pygments_lexer": "ipython3",
   "version": "3.6.2"
  }
 },
 "nbformat": 4,
 "nbformat_minor": 1
}
