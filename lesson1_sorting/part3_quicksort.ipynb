{
 "cells": [
  {
   "cell_type": "markdown",
   "metadata": {},
   "source": [
    "# QuickSort\n",
    "## (Harder)"
   ]
  },
  {
   "cell_type": "markdown",
   "metadata": {},
   "source": [
    "Quicksort is one of the fastest sorting algorithms with a time complexity of O(n log n) on average. Quicksort is also a typical example of a Divide & Conquer algorithm that can be implemented using recursion. Quicksort works as follows:\n",
    "\n",
    "\n",
    "First, we define a base case. Here, our base case is an array of one or zero elements. In other words, if a given array reached the size < 2, we return it. Now, given an array, we pick a value and assign it as the so-called *pivot*. Then, we look at all the remaining elements in an array and divide them into 2 new arrays:\n",
    "\n",
    "1. an array with values smaller than or equal to the pivot\n",
    "2. an array with values greater than the pivot\n",
    "\n",
    "Then, in recursive fashion, we apply the quicksort algorithm to those 2 subarrays. This procedure is repeated until it hits the base case, so that the function will return a sorted array from the call stack."
   ]
  },
  {
   "cell_type": "markdown",
   "metadata": {},
   "source": [
    "![](./images/quicksort.png)"
   ]
  },
  {
   "cell_type": "markdown",
   "metadata": {
    "collapsed": true
   },
   "source": [
    "#### Write code that randomly selects a pivot index in a list of any given size. \n",
    "            "
   ]
  },
  {
   "cell_type": "code",
   "execution_count": null,
   "metadata": {},
   "outputs": [],
   "source": []
  },
  {
   "cell_type": "markdown",
   "metadata": {},
   "source": [
    "#### Using the above, write a function that randomly selects a pivot and splits the list in to three parts as shown above."
   ]
  },
  {
   "cell_type": "code",
   "execution_count": null,
   "metadata": {},
   "outputs": [],
   "source": []
  },
  {
   "cell_type": "markdown",
   "metadata": {},
   "source": [
    "#### Write a second function that pieces the three parts back together in the correct order."
   ]
  },
  {
   "cell_type": "code",
   "execution_count": null,
   "metadata": {
    "collapsed": true
   },
   "outputs": [],
   "source": []
  },
  {
   "cell_type": "markdown",
   "metadata": {},
   "source": [
    "#### Put the last two functions together to write a recursive quicksort function, taking special care to handle the three cases:\n",
    "\n",
    "* the list has 1 element\n",
    "* the list has 2 elements\n",
    "* the list has 3 or more elements"
   ]
  },
  {
   "cell_type": "code",
   "execution_count": null,
   "metadata": {
    "collapsed": true
   },
   "outputs": [],
   "source": []
  },
  {
   "cell_type": "markdown",
   "metadata": {},
   "source": [
    "Note that the performance of quicksort is only O(n log n) if the values in the array occur in completely random order. If an array is already sorted, quicksort has time complexity O(n^2) if we would always pick the first value of the array as the pivot like in the implementation above. Why? Because, depending on whether the array is sorted in ascending or descending order, the left or the right subarray in the recursive function will always be empty. Thus, if we have n elements in an array, our call stack will have a depth of n, thus O(n*n) = O(n^2). However, if we always divide the array in half, the call stack will only have depth log n, thus O(n log n). \n",
    "\n",
    "If we know that our arrays are not always in random order, it is recommended to implement quicksort so that it picks a random element as the pivot and not always strictly the first number in that array.\n"
   ]
  },
  {
   "cell_type": "markdown",
   "metadata": {
    "collapsed": true
   },
   "source": [
    "#### Copy your tests from the selection sort and test your quicksort on them. How does the quicksort compare?"
   ]
  },
  {
   "cell_type": "code",
   "execution_count": null,
   "metadata": {
    "collapsed": true
   },
   "outputs": [],
   "source": []
  }
 ],
 "metadata": {
  "kernelspec": {
   "display_name": "Python 3",
   "language": "python",
   "name": "python3"
  },
  "language_info": {
   "codemirror_mode": {
    "name": "ipython",
    "version": 3
   },
   "file_extension": ".py",
   "mimetype": "text/x-python",
   "name": "python",
   "nbconvert_exporter": "python",
   "pygments_lexer": "ipython3",
   "version": "3.6.2"
  }
 },
 "nbformat": 4,
 "nbformat_minor": 1
}
