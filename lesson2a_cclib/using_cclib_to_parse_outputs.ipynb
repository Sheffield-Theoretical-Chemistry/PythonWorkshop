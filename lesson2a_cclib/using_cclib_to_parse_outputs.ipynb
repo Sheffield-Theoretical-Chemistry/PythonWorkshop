{
 "cells": [
  {
   "cell_type": "markdown",
   "metadata": {},
   "source": [
    "# Using `cclib` to parse quantum chemical outputs\n",
    "\n",
    "Running a calculation is pointless unless we can access the data. It is not only incredibly boring, but error-prone and an innefficient use of time to manually extract data from output files.\n",
    "\n",
    "The process of reading an output file and transforming the raw data contained within into information is called parsing. The prospect of writing a program to parse output files from scratch, whilst exhilarating, is daunting.\n",
    "Luckily, a lot of people have already done a lot of work for us.\n",
    "\n",
    "The python module [`cclib`](https://www.github.com/cclib/cclib \"cclib on github\") is able to parse a vast number of properties from a wide array of commonly used quantum chemical software, including `Gaussian`, `ORCA`, `Molpro`, `Q-Chem`, and others. A complete list of available properties and compatible software can be found [here](https://cclib.github.io/data.html \"Data & software parsed by cclib\").\n",
    "\n",
    "## Obtaining the package\n",
    "`cclib` is not provided in the Anaconda default installation. We must install it ourselves manually.\n",
    "\n",
    "Unfortunately, there is a bug in the current release of `cclib` that means we need to install a slightly older version of it, version `1.5.3`\n",
    "\n",
    "##### Installing with Anaconda Prompt\n",
    "Open the anaconda prompt program and enter the following command\n",
    "\n",
    "`conda install -c omnia cclib`\n",
    "\n",
    "##### Installing with Anaconda Navigator\n",
    "Follow the instructions on [this page](https://docs.anaconda.com/anaconda/navigator/tutorials/manage-packages/ \"Anaconda Navigator tutorial\"), making sure to install `cclib 1.5.3` specifically.\n",
    "\n",
    "##### Installing with pip\n",
    "We can use the command\n",
    "`pip install cclib==1.5.3`\n",
    "alternatively, to obtain the current development version, in which the issue has also been solved\n",
    "`pip install git+https://github.com/cclib/cclib`"
   ]
  },
  {
   "cell_type": "markdown",
   "metadata": {},
   "source": [
    "## The problem at hand: H atom dissociation in phenol\n",
    "\n",
    "In this notebook, we will use `cclib` to plot the dissociation of the OH bond in phenol. I have provided output files from calculations performed using [`ORCA 4.0.1.2`](https://orcaforum.cec.mpg.de/ \"ORCA quantum chemistry program homepage\") in the directory `phenol_dissoc_outputs`, which you can read for yourself if you are interested.\n",
    "\n",
    "**The aim of this workshop is to plot a potential energy curve for H atom dissociation in phenol.**\n",
    "\n",
    "As we will see, `cclib` will make the analysis of our calculations painless. First, however, we need to get a list of the files we want to process. We will use the in built module `os` to do this.\n",
    "\n",
    "Follow the instructions below (in **bold**). Please try to retain the variable names I have defined, since this will make debugging easier for us all."
   ]
  },
  {
   "cell_type": "code",
   "execution_count": null,
   "metadata": {},
   "outputs": [],
   "source": [
    "import os"
   ]
  },
  {
   "cell_type": "markdown",
   "metadata": {},
   "source": [
    "###  Finding the text files we want to parse\n",
    "\n",
    "Our first task is to make a list of output files. We will do this with a `for` loop.\n",
    "\n",
    "The directory containing the files is called `phenol_dissoc_outputs` and all of the files end with `.out`\n",
    "\n",
    "**Write a loop which puts all of the filenames in a list**"
   ]
  },
  {
   "cell_type": "code",
   "execution_count": null,
   "metadata": {},
   "outputs": [],
   "source": [
    "file_list = []"
   ]
  },
  {
   "cell_type": "markdown",
   "metadata": {},
   "source": [
    "### Parsing the files using `cclib`\n",
    "Now that we have a list of files, we need to actually parse them.\n",
    "\n",
    "The recommended way to do this is using the `cclib.io.ccread()` function\n",
    "\n",
    "**Import cclib and write a loop that takes the filename list and parses the files**"
   ]
  },
  {
   "cell_type": "code",
   "execution_count": null,
   "metadata": {},
   "outputs": [],
   "source": [
    "parsed_files = []\n",
    "\n",
    "\n",
    "# keep this variable to make future examples easier\n",
    "example_file = parsed_files[0]"
   ]
  },
  {
   "cell_type": "markdown",
   "metadata": {},
   "source": [
    "### Getting data from a parsed file\n",
    "Parsing a text file with `cclib` creates a new object. The methods of this object return data which has been extracted from the file.\n",
    "\n",
    "We can find a list of the data which can be extracted by `cclib` [here](https://cclib.github.io/data.html \"data extracted with cclib\"). This tells us the name of the method which returns given data. For example, an array of the solved SCF energies from calculations can be obtained by using the `scfenergies` method."
   ]
  },
  {
   "cell_type": "code",
   "execution_count": null,
   "metadata": {},
   "outputs": [],
   "source": [
    "example_energy = example_file.scfenergies[0]\n",
    "print('{}'.format(example_energy))"
   ]
  },
  {
   "cell_type": "markdown",
   "metadata": {},
   "source": [
    "We can find the available methods of a specific object with the following trick"
   ]
  },
  {
   "cell_type": "code",
   "execution_count": null,
   "metadata": {},
   "outputs": [],
   "source": [
    "available_methods = example_file.__dict__.keys()\n",
    "print('{}'.format(available_methods))"
   ]
  },
  {
   "cell_type": "markdown",
   "metadata": {},
   "source": [
    "### Collecting the energies\n",
    "Now that we have a list of parsed files, we can now use the `scfenergies` method to obtain a list containing all of the ground state energies.\n",
    "\n",
    "**Write a loop using the `scfenergies` method to extract the ground state energies**"
   ]
  },
  {
   "cell_type": "code",
   "execution_count": null,
   "metadata": {},
   "outputs": [],
   "source": [
    "gs_energies = []"
   ]
  },
  {
   "cell_type": "markdown",
   "metadata": {},
   "source": [
    "### Obtaining the bond lengths\n",
    "We now have an array containing the energies. This will form our y-axis data. We now need to obtain the x-axis data, _i.e._ the bond lengths at each geometry.\n",
    "\n",
    "We can also obtain the molecular geometries extracted from an output file using `cclib`. In this case, we will use the `atomcoords` method. \n",
    "\n",
    "Note that the dimensionality of the array we obtain from `atomcoords` is not the same as with `scfenergies`."
   ]
  },
  {
   "cell_type": "code",
   "execution_count": null,
   "metadata": {},
   "outputs": [],
   "source": [
    "example_geometry = example_file.atomcoords[0]\n",
    "print('{}'.format(example_geometry))"
   ]
  },
  {
   "cell_type": "markdown",
   "metadata": {},
   "source": [
    "Unfortunately, there is no easy way to visualise the output file directly in this notebook. For now, just note that in all of the calculations, atoms 12 and 13 are the OH pair. "
   ]
  },
  {
   "cell_type": "code",
   "execution_count": null,
   "metadata": {},
   "outputs": [],
   "source": [
    "example_O_coord = example_geometry[11]\n",
    "example_H_coord = example_geometry[12]\n",
    "print('O xyz:')\n",
    "print('{}'.format(example_O_coord))\n",
    "print('H xyz:')\n",
    "print('{}'.format(example_H_coord))"
   ]
  },
  {
   "cell_type": "markdown",
   "metadata": {},
   "source": [
    "### Using `numpy` to do mathematics\n",
    "\n",
    "The `numpy` module provides convenient implementations of many mathematical operations. We will use it to get the square root of our number.\n",
    "\n",
    "**Use the pythagorean theorem to calculate the distance between O and H in this example**"
   ]
  },
  {
   "cell_type": "code",
   "execution_count": null,
   "metadata": {},
   "outputs": [],
   "source": [
    "\n",
    "print('O-H bond length: {:.3f} Å'.format(example_distance))"
   ]
  },
  {
   "cell_type": "markdown",
   "metadata": {},
   "source": [
    "**Write a loop to obtain the OH distances for all of the files**"
   ]
  },
  {
   "cell_type": "code",
   "execution_count": null,
   "metadata": {},
   "outputs": [],
   "source": [
    "bond_lengths = []"
   ]
  },
  {
   "cell_type": "markdown",
   "metadata": {},
   "source": [
    "### Plotting our data using `matplotlib`\n",
    "\n",
    "We now have everything we need to plot the results. We will be using `matplotlib.pyplot` to do this.\n",
    "\n",
    "We will import `matplotlib.pyplot` and change some settings to make it look better in this notebook"
   ]
  },
  {
   "cell_type": "code",
   "execution_count": null,
   "metadata": {
    "scrolled": true
   },
   "outputs": [],
   "source": [
    "%%javascript\n",
    "IPython.OutputArea.prototype._should_scroll = function(lines) {\n",
    "    return false;\n",
    "}"
   ]
  },
  {
   "cell_type": "code",
   "execution_count": null,
   "metadata": {},
   "outputs": [],
   "source": [
    "%matplotlib notebook\n",
    "import matplotlib.pyplot as plt"
   ]
  },
  {
   "cell_type": "markdown",
   "metadata": {},
   "source": [
    "**Prepare a plotting environment, create a scatter plot object, then display the plot**"
   ]
  },
  {
   "cell_type": "code",
   "execution_count": null,
   "metadata": {},
   "outputs": [],
   "source": [
    "\n",
    "\n",
    "plt.show()  # this should be your final command "
   ]
  },
  {
   "cell_type": "markdown",
   "metadata": {},
   "source": [
    "## Additional work\n",
    "\n",
    "I will list some further challenges below:"
   ]
  },
  {
   "cell_type": "markdown",
   "metadata": {},
   "source": [
    "`cclib` includes some conversion utilities, which can be accessed using `cclib.parser.utils.convertor`. Currently, there is limited official documentation available.\n",
    "\n",
    "The function works as follows:\n",
    "\n",
    "`cclib.parser.utils.convertor(input, 'current_units', 'desired_units')`\n",
    "\n",
    "\n",
    "where current units and desired units are one of the following:\n",
    "* Time:\n",
    "    * 'au' = atomic time units\n",
    "    * 'fs' = femtoseconds\n",
    "* Distance:\n",
    "    * 'Angstrom' (note this is case sensitive)\n",
    "    * 'bohr'\n",
    "* Energy:\n",
    "    * 'wavenumber' = cm$^{-1}$\n",
    "    * 'hartree'\n",
    "    * 'kcal/mol'\n",
    "    * 'kJ/mol'\n",
    "    * 'nm' = nanometers\n",
    "    * 'Hz' = s$^{-1}$\n",
    "* Intensity (e.g. for vibrational spectra):\n",
    "    * 'Debye^2/amu-Angstrom^2'\n",
    "    * 'km/mol'\n",
    "* Charges:\n",
    "    * 'e' = electronic charge\n",
    "    * 'coulomb'\n",
    "    * 'statcoulomb'\n",
    "    * 'ebohr'\n",
    "    * 'Debye'\n",
    "    * 'ebohr2'\n",
    "    * 'Buckingham'\n",
    "    * 'Debye.ang'\n",
    "    * 'ebohr3'\n",
    "    * 'Debye.ang2'\n",
    "    * 'ebohr4'\n",
    "    * 'Debye.ang3'\n",
    "    * 'ebohr5'\n",
    "    * 'Debye.ang4'\n",
    "\n",
    "In our case, it makes sense to focus on either the energy or distance units.\n",
    "\n",
    "(This was surmised by inspecting the original source code for this function, available [here]() )\n",
    "\n",
    "**Use `cclib.parser.utils.convertor` to alter the units:**"
   ]
  },
  {
   "cell_type": "code",
   "execution_count": null,
   "metadata": {},
   "outputs": [],
   "source": []
  },
  {
   "cell_type": "markdown",
   "metadata": {},
   "source": [
    "**Rather than the absolute energies, plot the relative energies:**"
   ]
  },
  {
   "cell_type": "code",
   "execution_count": null,
   "metadata": {},
   "outputs": [],
   "source": []
  },
  {
   "cell_type": "markdown",
   "metadata": {},
   "source": [
    "**The calculations also include excited states. Include these in the plot:**"
   ]
  },
  {
   "cell_type": "code",
   "execution_count": null,
   "metadata": {},
   "outputs": [],
   "source": []
  }
 ],
 "metadata": {
  "kernelspec": {
   "display_name": "Python 3",
   "language": "python",
   "name": "python3"
  },
  "language_info": {
   "codemirror_mode": {
    "name": "ipython",
    "version": 3
   },
   "file_extension": ".py",
   "mimetype": "text/x-python",
   "name": "python",
   "nbconvert_exporter": "python",
   "pygments_lexer": "ipython3",
   "version": "3.6.6"
  }
 },
 "nbformat": 4,
 "nbformat_minor": 2
}
